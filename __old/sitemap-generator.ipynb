{
 "cells": [
  {
   "cell_type": "code",
   "execution_count": 1,
   "metadata": {},
   "outputs": [
    {
     "ename": "RuntimeError",
     "evalue": "This event loop is already running",
     "output_type": "error",
     "traceback": [
      "\u001b[1;31m---------------------------------------------------------------------------\u001b[0m",
      "\u001b[1;31mRuntimeError\u001b[0m                              Traceback (most recent call last)",
      "\u001b[1;32md:\\__BUP_V_KOMPLETT\\X\\111_BUP\\33projects\\2022\\2022-karlsruhe.digital\\2022\\sitemap\\sitemap-generator.ipynb Cell 1'\u001b[0m in \u001b[0;36m<cell line: 7>\u001b[1;34m()\u001b[0m\n\u001b[0;32m      <a href='vscode-notebook-cell:/d%3A/__BUP_V_KOMPLETT/X/111_BUP/33projects/2022/2022-karlsruhe.digital/2022/sitemap/sitemap-generator.ipynb#ch0000000?line=4'>5</a>\u001b[0m root_url \u001b[39m=\u001b[39m \u001b[39m'\u001b[39m\u001b[39mhttps://www.haikson.com\u001b[39m\u001b[39m'\u001b[39m\n\u001b[0;32m      <a href='vscode-notebook-cell:/d%3A/__BUP_V_KOMPLETT/X/111_BUP/33projects/2022/2022-karlsruhe.digital/2022/sitemap/sitemap-generator.ipynb#ch0000000?line=5'>6</a>\u001b[0m root_url \u001b[39m=\u001b[39m \u001b[39m'\u001b[39m\u001b[39mhttps://karlsruhe.digital\u001b[39m\u001b[39m'\u001b[39m\n\u001b[1;32m----> <a href='vscode-notebook-cell:/d%3A/__BUP_V_KOMPLETT/X/111_BUP/33projects/2022/2022-karlsruhe.digital/2022/sitemap/sitemap-generator.ipynb#ch0000000?line=6'>7</a>\u001b[0m crawler(\n\u001b[0;32m      <a href='vscode-notebook-cell:/d%3A/__BUP_V_KOMPLETT/X/111_BUP/33projects/2022/2022-karlsruhe.digital/2022/sitemap/sitemap-generator.ipynb#ch0000000?line=7'>8</a>\u001b[0m     root_url, out_file\u001b[39m=\u001b[39;49m\u001b[39m'\u001b[39;49m\u001b[39mhaikson-sitemap.xml\u001b[39;49m\u001b[39m'\u001b[39;49m, \n\u001b[0;32m      <a href='vscode-notebook-cell:/d%3A/__BUP_V_KOMPLETT/X/111_BUP/33projects/2022/2022-karlsruhe.digital/2022/sitemap/sitemap-generator.ipynb#ch0000000?line=8'>9</a>\u001b[0m     exclude_urls\u001b[39m=\u001b[39;49m[\n\u001b[0;32m     <a href='vscode-notebook-cell:/d%3A/__BUP_V_KOMPLETT/X/111_BUP/33projects/2022/2022-karlsruhe.digital/2022/sitemap/sitemap-generator.ipynb#ch0000000?line=9'>10</a>\u001b[0m         \u001b[39m\"\u001b[39;49m\u001b[39m.pdf\u001b[39;49m\u001b[39m\"\u001b[39;49m, \n\u001b[0;32m     <a href='vscode-notebook-cell:/d%3A/__BUP_V_KOMPLETT/X/111_BUP/33projects/2022/2022-karlsruhe.digital/2022/sitemap/sitemap-generator.ipynb#ch0000000?line=10'>11</a>\u001b[0m         \u001b[39m\"\u001b[39;49m\u001b[39m.jpg\u001b[39;49m\u001b[39m\"\u001b[39;49m, \n\u001b[0;32m     <a href='vscode-notebook-cell:/d%3A/__BUP_V_KOMPLETT/X/111_BUP/33projects/2022/2022-karlsruhe.digital/2022/sitemap/sitemap-generator.ipynb#ch0000000?line=11'>12</a>\u001b[0m         \u001b[39m\"\u001b[39;49m\u001b[39m.png\u001b[39;49m\u001b[39m\"\u001b[39;49m, \n\u001b[0;32m     <a href='vscode-notebook-cell:/d%3A/__BUP_V_KOMPLETT/X/111_BUP/33projects/2022/2022-karlsruhe.digital/2022/sitemap/sitemap-generator.ipynb#ch0000000?line=12'>13</a>\u001b[0m         \u001b[39m\"\u001b[39;49m\u001b[39m.gif\u001b[39;49m\u001b[39m\"\u001b[39;49m, \n\u001b[0;32m     <a href='vscode-notebook-cell:/d%3A/__BUP_V_KOMPLETT/X/111_BUP/33projects/2022/2022-karlsruhe.digital/2022/sitemap/sitemap-generator.ipynb#ch0000000?line=13'>14</a>\u001b[0m         \u001b[39m\"\u001b[39;49m\u001b[39m.webp\u001b[39;49m\u001b[39m\"\u001b[39;49m, \n\u001b[0;32m     <a href='vscode-notebook-cell:/d%3A/__BUP_V_KOMPLETT/X/111_BUP/33projects/2022/2022-karlsruhe.digital/2022/sitemap/sitemap-generator.ipynb#ch0000000?line=14'>15</a>\u001b[0m         \u001b[39m\"\u001b[39;49m\u001b[39m.zip\u001b[39;49m\u001b[39m\"\u001b[39;49m,\n\u001b[0;32m     <a href='vscode-notebook-cell:/d%3A/__BUP_V_KOMPLETT/X/111_BUP/33projects/2022/2022-karlsruhe.digital/2022/sitemap/sitemap-generator.ipynb#ch0000000?line=15'>16</a>\u001b[0m     ]\n\u001b[0;32m     <a href='vscode-notebook-cell:/d%3A/__BUP_V_KOMPLETT/X/111_BUP/33projects/2022/2022-karlsruhe.digital/2022/sitemap/sitemap-generator.ipynb#ch0000000?line=16'>17</a>\u001b[0m     )\n",
      "File \u001b[1;32md:\\__BUP_V_KOMPLETT\\X\\111_BUP\\33projects\\2022\\2022-karlsruhe.digital\\2022\\sitemap\\venv\\lib\\site-packages\\pysitemap\\__init__.py:21\u001b[0m, in \u001b[0;36mcrawler\u001b[1;34m(root_url, out_file, out_format, maxtasks, exclude_urls)\u001b[0m\n\u001b[0;32m     <a href='file:///d%3A/__BUP_V_KOMPLETT/X/111_BUP/33projects/2022/2022-karlsruhe.digital/2022/sitemap/venv/lib/site-packages/pysitemap/__init__.py?line=18'>19</a>\u001b[0m \u001b[39mif\u001b[39;00m exclude_urls:\n\u001b[0;32m     <a href='file:///d%3A/__BUP_V_KOMPLETT/X/111_BUP/33projects/2022/2022-karlsruhe.digital/2022/sitemap/venv/lib/site-packages/pysitemap/__init__.py?line=19'>20</a>\u001b[0m     c\u001b[39m.\u001b[39mset_exclude_url(urls_list\u001b[39m=\u001b[39mexclude_urls)\n\u001b[1;32m---> <a href='file:///d%3A/__BUP_V_KOMPLETT/X/111_BUP/33projects/2022/2022-karlsruhe.digital/2022/sitemap/venv/lib/site-packages/pysitemap/__init__.py?line=20'>21</a>\u001b[0m loop\u001b[39m.\u001b[39;49mrun_until_complete(c\u001b[39m.\u001b[39;49mrun())\n\u001b[0;32m     <a href='file:///d%3A/__BUP_V_KOMPLETT/X/111_BUP/33projects/2022/2022-karlsruhe.digital/2022/sitemap/venv/lib/site-packages/pysitemap/__init__.py?line=22'>23</a>\u001b[0m \u001b[39mtry\u001b[39;00m:\n\u001b[0;32m     <a href='file:///d%3A/__BUP_V_KOMPLETT/X/111_BUP/33projects/2022/2022-karlsruhe.digital/2022/sitemap/venv/lib/site-packages/pysitemap/__init__.py?line=23'>24</a>\u001b[0m     loop\u001b[39m.\u001b[39madd_signal_handler(signal\u001b[39m.\u001b[39mSIGINT, loop\u001b[39m.\u001b[39mstop)\n",
      "File \u001b[1;32mV:\\00shared\\dev8\\PY\\Python310\\lib\\asyncio\\base_events.py:617\u001b[0m, in \u001b[0;36mBaseEventLoop.run_until_complete\u001b[1;34m(self, future)\u001b[0m\n\u001b[0;32m    <a href='file:///v%3A/00shared/dev8/PY/Python310/lib/asyncio/base_events.py?line=605'>606</a>\u001b[0m \u001b[39m\"\"\"Run until the Future is done.\u001b[39;00m\n\u001b[0;32m    <a href='file:///v%3A/00shared/dev8/PY/Python310/lib/asyncio/base_events.py?line=606'>607</a>\u001b[0m \n\u001b[0;32m    <a href='file:///v%3A/00shared/dev8/PY/Python310/lib/asyncio/base_events.py?line=607'>608</a>\u001b[0m \u001b[39mIf the argument is a coroutine, it is wrapped in a Task.\u001b[39;00m\n\u001b[1;32m   (...)\u001b[0m\n\u001b[0;32m    <a href='file:///v%3A/00shared/dev8/PY/Python310/lib/asyncio/base_events.py?line=613'>614</a>\u001b[0m \u001b[39mReturn the Future's result, or raise its exception.\u001b[39;00m\n\u001b[0;32m    <a href='file:///v%3A/00shared/dev8/PY/Python310/lib/asyncio/base_events.py?line=614'>615</a>\u001b[0m \u001b[39m\"\"\"\u001b[39;00m\n\u001b[0;32m    <a href='file:///v%3A/00shared/dev8/PY/Python310/lib/asyncio/base_events.py?line=615'>616</a>\u001b[0m \u001b[39mself\u001b[39m\u001b[39m.\u001b[39m_check_closed()\n\u001b[1;32m--> <a href='file:///v%3A/00shared/dev8/PY/Python310/lib/asyncio/base_events.py?line=616'>617</a>\u001b[0m \u001b[39mself\u001b[39;49m\u001b[39m.\u001b[39;49m_check_running()\n\u001b[0;32m    <a href='file:///v%3A/00shared/dev8/PY/Python310/lib/asyncio/base_events.py?line=618'>619</a>\u001b[0m new_task \u001b[39m=\u001b[39m \u001b[39mnot\u001b[39;00m futures\u001b[39m.\u001b[39misfuture(future)\n\u001b[0;32m    <a href='file:///v%3A/00shared/dev8/PY/Python310/lib/asyncio/base_events.py?line=619'>620</a>\u001b[0m future \u001b[39m=\u001b[39m tasks\u001b[39m.\u001b[39mensure_future(future, loop\u001b[39m=\u001b[39m\u001b[39mself\u001b[39m)\n",
      "File \u001b[1;32mV:\\00shared\\dev8\\PY\\Python310\\lib\\asyncio\\base_events.py:577\u001b[0m, in \u001b[0;36mBaseEventLoop._check_running\u001b[1;34m(self)\u001b[0m\n\u001b[0;32m    <a href='file:///v%3A/00shared/dev8/PY/Python310/lib/asyncio/base_events.py?line=574'>575</a>\u001b[0m \u001b[39mdef\u001b[39;00m \u001b[39m_check_running\u001b[39m(\u001b[39mself\u001b[39m):\n\u001b[0;32m    <a href='file:///v%3A/00shared/dev8/PY/Python310/lib/asyncio/base_events.py?line=575'>576</a>\u001b[0m     \u001b[39mif\u001b[39;00m \u001b[39mself\u001b[39m\u001b[39m.\u001b[39mis_running():\n\u001b[1;32m--> <a href='file:///v%3A/00shared/dev8/PY/Python310/lib/asyncio/base_events.py?line=576'>577</a>\u001b[0m         \u001b[39mraise\u001b[39;00m \u001b[39mRuntimeError\u001b[39;00m(\u001b[39m'\u001b[39m\u001b[39mThis event loop is already running\u001b[39m\u001b[39m'\u001b[39m)\n\u001b[0;32m    <a href='file:///v%3A/00shared/dev8/PY/Python310/lib/asyncio/base_events.py?line=577'>578</a>\u001b[0m     \u001b[39mif\u001b[39;00m events\u001b[39m.\u001b[39m_get_running_loop() \u001b[39mis\u001b[39;00m \u001b[39mnot\u001b[39;00m \u001b[39mNone\u001b[39;00m:\n\u001b[0;32m    <a href='file:///v%3A/00shared/dev8/PY/Python310/lib/asyncio/base_events.py?line=578'>579</a>\u001b[0m         \u001b[39mraise\u001b[39;00m \u001b[39mRuntimeError\u001b[39;00m(\n\u001b[0;32m    <a href='file:///v%3A/00shared/dev8/PY/Python310/lib/asyncio/base_events.py?line=579'>580</a>\u001b[0m             \u001b[39m'\u001b[39m\u001b[39mCannot run the event loop while another loop is running\u001b[39m\u001b[39m'\u001b[39m)\n",
      "\u001b[1;31mRuntimeError\u001b[0m: This event loop is already running"
     ]
    }
   ],
   "source": [
    "import sys\n",
    "import logging\n",
    "from pysitemap import crawler\n",
    "\n",
    "root_url = 'https://www.haikson.com'\n",
    "root_url = 'https://karlsruhe.digital'\n",
    "crawler(\n",
    "    root_url, out_file='haikson-sitemap.xml', \n",
    "    exclude_urls=[\n",
    "        \".pdf\", \n",
    "        \".jpg\", \n",
    "        \".png\", \n",
    "        \".gif\", \n",
    "        \".webp\", \n",
    "        \".zip\",\n",
    "    ]\n",
    "    )"
   ]
  }
 ],
 "metadata": {
  "interpreter": {
   "hash": "b56f5dbaca42e5d06fe2344edc63f7213399c22cbe4fa6238526ea3d79eb9046"
  },
  "kernelspec": {
   "display_name": "Python 3.10.0 ('venv': venv)",
   "language": "python",
   "name": "python3"
  },
  "language_info": {
   "codemirror_mode": {
    "name": "ipython",
    "version": 3
   },
   "file_extension": ".py",
   "mimetype": "text/x-python",
   "name": "python",
   "nbconvert_exporter": "python",
   "pygments_lexer": "ipython3",
   "version": "3.10.0"
  },
  "orig_nbformat": 4
 },
 "nbformat": 4,
 "nbformat_minor": 2
}
